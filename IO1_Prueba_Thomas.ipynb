{
  "nbformat": 4,
  "nbformat_minor": 0,
  "metadata": {
    "colab": {
      "private_outputs": true,
      "provenance": [],
      "authorship_tag": "ABX9TyP+NqrDNmITrQ54TShrxW/u",
      "include_colab_link": true
    },
    "kernelspec": {
      "name": "python3",
      "display_name": "Python 3"
    },
    "language_info": {
      "name": "python"
    }
  },
  "cells": [
    {
      "cell_type": "markdown",
      "metadata": {
        "id": "view-in-github",
        "colab_type": "text"
      },
      "source": [
        "<a href=\"https://colab.research.google.com/github/ThomasPineda/Prueba-GEA-Investigaci-n-de-operaciones-I/blob/main/IO1_Prueba_Thomas.ipynb\" target=\"_parent\"><img src=\"https://colab.research.google.com/assets/colab-badge.svg\" alt=\"Open In Colab\"/></a>"
      ]
    },
    {
      "cell_type": "markdown",
      "source": [
        "**Minimizar** 3*x + 8*y\n",
        "\n",
        "**sujeto a:**\n",
        " \n",
        "1.  x + y >= 50\n",
        "2.  x - y <= 20\n",
        "3.  x >= 0\n",
        "4.  y >= 0\n",
        "\n",
        "\n"
      ],
      "metadata": {
        "id": "MSOy78HdPpHh"
      }
    },
    {
      "cell_type": "code",
      "execution_count": null,
      "metadata": {
        "id": "LAtsBh0APaMk"
      },
      "outputs": [],
      "source": [
        "#Instalar libreria\n",
        "pip install cvxpy"
      ]
    },
    {
      "cell_type": "code",
      "source": [
        "#Importar libreria \n",
        "import cvxpy as cp"
      ],
      "metadata": {
        "id": "21kbv4LyQA3F"
      },
      "execution_count": null,
      "outputs": []
    },
    {
      "cell_type": "code",
      "source": [
        "#Creamos las dos variables involucradas en el problema \n",
        "x = cp.Variable() ; y = cp.Variable()\n",
        "\n",
        "#Creamos la función objetivo\n",
        "obj = cp.Minimize(3*x + 8*y)\n",
        "\n",
        "#Cramos las reestriciones\n",
        "suj = [x + y >= 50, x - y <= 20, x >= 0, y >= 0]\n",
        "\n",
        "#Creamos el problema\n",
        "prom = cp.Problem(obj, suj)"
      ],
      "metadata": {
        "id": "oWgAWlcHWcM6"
      },
      "execution_count": null,
      "outputs": []
    },
    {
      "cell_type": "code",
      "source": [
        "#Resolvemos\n",
        "prom.solve()\n",
        "print(\"\\nThe optimal value is\", prom.value)\n",
        "print(\"With X_opt = %f, y_opt = %f\" %(x.value, y.value))\n",
        "print(\"The dual price of X is\",prom.constraints[0].dual_value)\n",
        "print(\"The dual price of y is\",prom.constraints[1].dual_value)\n"
      ],
      "metadata": {
        "id": "O5CVWp0zXUU_"
      },
      "execution_count": null,
      "outputs": []
    },
    {
      "cell_type": "code",
      "source": [
        "# Solve with OSQP.\n",
        "prom.solve(solver=cp.OSQP)\n",
        "print(\"\\noptimal value with OSQP:\", prom.value)\n",
        "print(\"With X_opt = %f, y_opt = %f\" %(x.value, y.value))\n",
        "print(\"The dual price of X is\",prom.constraints[0].dual_value)\n",
        "print(\"The dual price of y is\",prom.constraints[1].dual_value)\n",
        "\n",
        "# Solve with ECOS.\n",
        "prom.solve(solver=cp.ECOS)\n",
        "print(\"\\noptimal value with ECOS:\", prom.value)\n",
        "print(\"With X_opt = %f, y_opt = %f\" %(x.value, y.value))\n",
        "print(\"The dual price of X is\",prom.constraints[0].dual_value)\n",
        "print(\"The dual price of y is\",prom.constraints[1].dual_value)\n",
        "\n",
        "# Solve with CVXOPT.\n",
        "prom.solve(solver=cp.CVXOPT)\n",
        "print(\"\\noptimal value with CVXOPT:\", prom.value)\n",
        "print(\"With X_opt = %f, y_opt = %f\" %(x.value, y.value))\n",
        "print(\"The dual price of X is\",prom.constraints[0].dual_value)\n",
        "print(\"The dual price of y is\",prom.constraints[1].dual_value)\n",
        "\n",
        "# Solve with SCS.\n",
        "prom.solve(solver=cp.SCS)\n",
        "print(\"\\noptimal value with SCS:\", prom.value)\n",
        "print(\"With X_opt = %f, y_opt = %f\" %(x.value, y.value))\n",
        "print(\"The dual price of X is\",prom.constraints[0].dual_value)\n",
        "print(\"The dual price of y is\",prom.constraints[1].dual_value)"
      ],
      "metadata": {
        "id": "vnOzPgsDHmLj"
      },
      "execution_count": null,
      "outputs": []
    }
  ]
}